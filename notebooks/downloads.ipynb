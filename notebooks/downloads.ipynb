{
 "cells": [
  {
   "cell_type": "code",
   "execution_count": 1,
   "id": "c653b5fa-e5b3-4f00-afb8-a1c67dbedc45",
   "metadata": {},
   "outputs": [
    {
     "data": {
      "text/plain": [
       "'/usr/local/anaconda3/envs/torch-nlp/bin/python3'"
      ]
     },
     "execution_count": 1,
     "metadata": {},
     "output_type": "execute_result"
    }
   ],
   "source": [
    "import sys\n",
    "\n",
    "# make sure this points to the correct environment\n",
    "sys.executable"
   ]
  },
  {
   "cell_type": "code",
   "execution_count": 2,
   "id": "4f854f01-667c-48f3-8da0-d2fa6b0075ea",
   "metadata": {},
   "outputs": [],
   "source": [
    "import os\n",
    "\n",
    "# add module\n",
    "module_path = os.path.abspath(os.path.join('..'))\n",
    "if module_path not in sys.path:\n",
    "    sys.path.append(module_path)"
   ]
  },
  {
   "cell_type": "code",
   "execution_count": 3,
   "id": "76db3512",
   "metadata": {},
   "outputs": [],
   "source": [
    "import io\n",
    "import os\n",
    "\n",
    "from collections import Counter\n",
    "\n",
    "import torch\n",
    "import torchtext\n",
    "\n",
    "from torchtext.vocab import Vocab\n",
    "from torchtext.utils import download_from_url, extract_archive\n",
    "from torchtext.data.utils import get_tokenizer"
   ]
  },
  {
   "cell_type": "code",
   "execution_count": 4,
   "id": "42f874c1-b210-46cd-b454-c66a5f694d78",
   "metadata": {},
   "outputs": [
    {
     "data": {
      "text/plain": [
       "('https://raw.githubusercontent.com/multi30k/dataset/master/data/task1/raw/',\n",
       " './data/',\n",
       " {'train': {'source': 'train.de', 'target': 'train.en'},\n",
       "  'val': {'source': 'val.de', 'target': 'val.en'},\n",
       "  'test': {'source': 'test_2016_flickr.de', 'target': 'test_2016_flickr.en'}})"
      ]
     },
     "execution_count": 4,
     "metadata": {},
     "output_type": "execute_result"
    }
   ],
   "source": [
    "from translators.utils.constants import Constants\n",
    "from translators.utils.path_utils import downloads_path, dataset_filepaths\n",
    "\n",
    "Constants.DATASET_BASE_URL, Constants.DATASET_DOWNLOADS_PATH, Constants.DATASET_SPLITS"
   ]
  },
  {
   "cell_type": "code",
   "execution_count": 5,
   "id": "4af0cb8f-29a3-459b-97cd-f7670a82c541",
   "metadata": {},
   "outputs": [
    {
     "name": "stderr",
     "output_type": "stream",
     "text": [
      "100%|█████████████████████████████████████████████████████████████████████████████████████████████████████████████████████████████████████████████████████████████████████████████████████████████████████████████████████████████████| 637k/637k [00:00<00:00, 12.0MB/s]\n",
      "100%|█████████████████████████████████████████████████████████████████████████████████████████████████████████████████████████████████████████████████████████████████████████████████████████████████████████████████████████████████| 569k/569k [00:00<00:00, 10.0MB/s]\n",
      "100%|███████████████████████████████████████████████████████████████████████████████████████████████████████████████████████████████████████████████████████████████████████████████████████████████████████████████████████████████| 24.7k/24.7k [00:00<00:00, 6.35MB/s]\n",
      "100%|███████████████████████████████████████████████████████████████████████████████████████████████████████████████████████████████████████████████████████████████████████████████████████████████████████████████████████████████| 21.6k/21.6k [00:00<00:00, 6.97MB/s]\n",
      "100%|███████████████████████████████████████████████████████████████████████████████████████████████████████████████████████████████████████████████████████████████████████████████████████████████████████████████████████████████| 22.9k/22.9k [00:00<00:00, 7.07MB/s]\n",
      "100%|███████████████████████████████████████████████████████████████████████████████████████████████████████████████████████████████████████████████████████████████████████████████████████████████████████████████████████████████| 21.1k/21.1k [00:00<00:00, 9.25MB/s]\n"
     ]
    }
   ],
   "source": [
    "# download\n",
    "for split in Constants.DATASET_SPLITS.keys():\n",
    "    split_path = f\"{downloads_path()}{split}/\"\n",
    "\n",
    "    if not os.path.exists(split_path):\n",
    "        os.makedirs(split_path)\n",
    "        print(\"creating directory.\")\n",
    "        pass\n",
    "\n",
    "    # source (text to be translated)\n",
    "    source_file = Constants.DATASET_SPLITS[split][\"source\"]\n",
    "    source_gz = download_from_url(f\"{Constants.DATASET_BASE_URL}{source_file}.gz\", f\"{split_path}{source_file}.gz\")\n",
    "    extract_archive(source_gz, split_path)\n",
    "\n",
    "    # target (expected translation)\n",
    "    target_file = Constants.DATASET_SPLITS[split][\"target\"]\n",
    "    target_gz = download_from_url(f\"{Constants.DATASET_BASE_URL}{target_file}.gz\", f\"{split_path}{target_file}.gz\")\n",
    "    extract_archive(target_gz, split_path)\n",
    "\n",
    "    # delete gzips\n",
    "    os.remove(source_gz)\n",
    "    os.remove(target_gz)\n",
    "    continue"
   ]
  },
  {
   "cell_type": "code",
   "execution_count": 6,
   "id": "feac93b7-700b-4450-947c-1ef62990a805",
   "metadata": {},
   "outputs": [
    {
     "name": "stdout",
     "output_type": "stream",
     "text": [
      "train: ['train.de', 'train.en']\n",
      "val: ['val.en', 'val.de']\n",
      "test: ['test_2016_flickr.en', 'test_2016_flickr.de']\n"
     ]
    }
   ],
   "source": [
    "# verify\n",
    "for split in [\"train\", \"val\", \"test\"]:\n",
    "    split_path = f\"{downloads_path()}{split}/\"\n",
    "    print(f\"{split}:\", os.listdir(split_path))\n",
    "    pass"
   ]
  },
  {
   "cell_type": "code",
   "execution_count": null,
   "id": "725d2e1e-01b7-4e7d-82fd-6993a1a43ed4",
   "metadata": {},
   "outputs": [],
   "source": []
  }
 ],
 "metadata": {
  "kernelspec": {
   "display_name": "torch-nlp",
   "language": "python",
   "name": "torch-nlp"
  },
  "language_info": {
   "codemirror_mode": {
    "name": "ipython",
    "version": 3
   },
   "file_extension": ".py",
   "mimetype": "text/x-python",
   "name": "python",
   "nbconvert_exporter": "python",
   "pygments_lexer": "ipython3",
   "version": "3.10.11"
  }
 },
 "nbformat": 4,
 "nbformat_minor": 5
}
