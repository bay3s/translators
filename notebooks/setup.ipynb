{
 "cells": [
  {
   "cell_type": "code",
   "execution_count": 1,
   "id": "3ea76cb0-9472-47af-ab22-63618f5ffb35",
   "metadata": {},
   "outputs": [
    {
     "data": {
      "text/plain": [
       "'/usr/local/anaconda3/envs/torch-nlp/bin/python3'"
      ]
     },
     "execution_count": 1,
     "metadata": {},
     "output_type": "execute_result"
    }
   ],
   "source": [
    "import sys\n",
    "\n",
    "# execution env\n",
    "sys.executable"
   ]
  },
  {
   "cell_type": "code",
   "execution_count": 2,
   "id": "bc63fda6",
   "metadata": {},
   "outputs": [],
   "source": [
    "import warnings\n",
    "import time\n",
    "\n",
    "import numpy as np\n",
    "\n",
    "import torch\n",
    "import torch.nn as nn\n",
    "from torch.nn.utils import weight_norm\n",
    "import torch.nn.functional as F\n",
    "\n",
    "import matplotlib.pyplot as plt\n",
    "import seaborn as sns"
   ]
  },
  {
   "cell_type": "code",
   "execution_count": 3,
   "id": "bd8476bf-57c1-4004-a1b2-d6116bdbda56",
   "metadata": {},
   "outputs": [],
   "source": [
    "import os\n",
    "\n",
    "# add module\n",
    "module_path = os.path.abspath(os.path.join('..'))\n",
    "if module_path not in sys.path:\n",
    "    sys.path.append(module_path)"
   ]
  },
  {
   "cell_type": "code",
   "execution_count": 4,
   "id": "13f75f11-ff2c-46f0-97f3-6c4425e1dbb9",
   "metadata": {},
   "outputs": [
    {
     "data": {
      "text/plain": [
       "('https://raw.githubusercontent.com/multi30k/dataset/master/data/task1/raw/',\n",
       " './data/',\n",
       " {'train': {'source': 'train.de', 'target': 'train.en'},\n",
       "  'val': {'source': 'val.de', 'target': 'val.en'},\n",
       "  'test': {'source': 'test_2016_flickr.de', 'target': 'test_2016_flickr.en'}})"
      ]
     },
     "execution_count": 4,
     "metadata": {},
     "output_type": "execute_result"
    }
   ],
   "source": [
    "from translators.utils.constants import Constants\n",
    "from translators.datasets.translation_dataset import TranslationDataset\n",
    "\n",
    "Constants.DATASET_BASE_URL, Constants.DATASET_DOWNLOADS_PATH, Constants.DATASET_SPLITS"
   ]
  },
  {
   "cell_type": "code",
   "execution_count": 47,
   "id": "b314ed14-47ca-4f58-a383-ed0f52831721",
   "metadata": {},
   "outputs": [],
   "source": [
    "warnings.filterwarnings(\"ignore\")"
   ]
  },
  {
   "cell_type": "code",
   "execution_count": 48,
   "id": "98e87003-15ae-4476-8634-913e15dcaf92",
   "metadata": {},
   "outputs": [],
   "source": [
    "# constants\n",
    "max_sequence_length = 50\n",
    "minibatch_size = 32\n",
    "current_device = torch.device(\"cuda\" if torch.cuda.is_available() else \"cpu\")"
   ]
  },
  {
   "cell_type": "code",
   "execution_count": 49,
   "id": "51e05335-0196-46d0-87b2-640b3a4722d7",
   "metadata": {},
   "outputs": [],
   "source": [
    "dataset = TranslationDataset(\"de_core_news_sm\", \"en_core_web_sm\")\n",
    "train_loader, (source_vocab, target_vocab) = dataset.load(\"train\", minibatch_size, current_device)"
   ]
  },
  {
   "cell_type": "code",
   "execution_count": 50,
   "id": "39943cf0-2228-4603-b16d-38717ff470aa",
   "metadata": {},
   "outputs": [],
   "source": [
    "for _, batch in enumerate(train_loader):\n",
    "    minibatch_source, minibatch_target = batch\n",
    "    break"
   ]
  },
  {
   "cell_type": "code",
   "execution_count": 51,
   "id": "a409c188-d913-4f4b-a914-7f68b57baa01",
   "metadata": {},
   "outputs": [
    {
     "data": {
      "text/plain": [
       "((torch.Size([32, 25]), device(type='cpu'), False),\n",
       " (torch.Size([32, 25]), device(type='cpu')))"
      ]
     },
     "execution_count": 51,
     "metadata": {},
     "output_type": "execute_result"
    }
   ],
   "source": [
    "(minibatch_source.shape, minibatch_source.device, minibatch_source.requires_grad), (minibatch_target.shape, minibatch_target.device)"
   ]
  },
  {
   "cell_type": "code",
   "execution_count": 52,
   "id": "c2a3afce-a2ef-4a92-91a4-b58102f5ea13",
   "metadata": {},
   "outputs": [
    {
     "data": {
      "text/plain": [
       "(['<unk>', '<pad>', '<bos>', '<eos>'], ['<unk>', '<pad>', '<bos>', '<eos>'])"
      ]
     },
     "execution_count": 52,
     "metadata": {},
     "output_type": "execute_result"
    }
   ],
   "source": [
    "# special tokens\n",
    "source_vocab.get_itos()[:4], target_vocab.get_itos()[:4]"
   ]
  },
  {
   "cell_type": "code",
   "execution_count": 53,
   "id": "715b6a79-8cee-4538-a3d5-b6eb049343dd",
   "metadata": {},
   "outputs": [
    {
     "data": {
      "text/plain": [
       "(19215, 10838)"
      ]
     },
     "execution_count": 53,
     "metadata": {},
     "output_type": "execute_result"
    }
   ],
   "source": [
    "len(source_vocab), len(target_vocab)"
   ]
  },
  {
   "cell_type": "code",
   "execution_count": 54,
   "id": "04482297-e174-4616-b280-c0d21d0aa5fb",
   "metadata": {},
   "outputs": [],
   "source": [
    "# weight init\n",
    "def init_module(\n",
    "    module: nn.Module, weight_init: callable, bias_init: callable = None, gain: float = 1.0\n",
    "):\n",
    "    weight_init(module.weight.data, gain=gain)\n",
    "\n",
    "    if bias_init is not None:\n",
    "        bias_init(module.bias.data)\n",
    "        pass\n",
    "\n",
    "    weight_norm(module)\n",
    "\n",
    "    return module\n",
    "\n",
    "\n",
    "def init_xavier_uniform(m: nn.Module):\n",
    "    bias_init = (lambda x: nn.init.constant_(x, 0)) if hasattr(m, \"bias\") else None\n",
    "\n",
    "    return init_module(\n",
    "        m, nn.init.xavier_uniform_, bias_init, np.sqrt(2)\n",
    "    )\n",
    "\n",
    "\n",
    "def init_lstm_weights(lstm: torch.nn.LSTM):\n",
    "    for name, param in lstm.named_parameters():\n",
    "        if \"bias\" in name:\n",
    "            nn.init.constant_(param, 0)\n",
    "        elif \"weight\" in name:\n",
    "            nn.init.orthogonal_(param)\n",
    "\n",
    "    return lstm\n",
    "\n",
    "\n",
    "def init_embedding_weights(m: nn.Module):\n",
    "    return init_xavier_uniform(m)"
   ]
  },
  {
   "cell_type": "code",
   "execution_count": 85,
   "id": "f228fbc3",
   "metadata": {},
   "outputs": [],
   "source": [
    "# utils\n",
    "def plot_network_layer(layer_prefix, layer_out, layer_activations=None, activation_type=\"tanh\"):\n",
    "    # setup\n",
    "    sns.set_style(\"whitegrid\")\n",
    "    sns.set_context(\"notebook\", rc={\n",
    "        \"grid.linewidth\": 0.2, \n",
    "        \"axes.titlesize\": 8,\n",
    "        \"axes.labelsize\": 8\n",
    "    })\n",
    "\n",
    "    num_subplots = 1 + int(layer_activations is not None)\n",
    "    fig, ax = plt.subplots(1, num_subplots, figsize=(3 * num_subplots, 1.5))\n",
    "\n",
    "    ax_0 = ax if not hasattr(ax, '__iter__') else ax[0]\n",
    "    ax_0.set_title(f\"{layer_prefix}_out\")\n",
    "    sns.kdeplot(data=layer_out.flatten().detach().numpy(), color=\"darkblue\", fill=False, ax=ax_0, linewidth=1)\n",
    "    \n",
    "    if layer_activations is not None:\n",
    "        ax[1].set_title(f\"{layer_prefix}_out_{activation_type}\")\n",
    "        sns.kdeplot(data=layer_activations.flatten().detach().numpy(), color=\"orange\", fill=False, ax=ax[1], linewidth=1)\n",
    "        pass\n",
    "        \n",
    "    # display\n",
    "    plt.tight_layout()\n",
    "    plt.show()\n",
    "    pass"
   ]
  },
  {
   "cell_type": "code",
   "execution_count": 151,
   "id": "1b12eaa3",
   "metadata": {},
   "outputs": [],
   "source": [
    "# encoder\n",
    "class Encoder(nn.Module):\n",
    "\n",
    "    def __init__(self, vocab_size: int, embedding_dim: int, lstm_layers: int, lstm_dim: int, bidirec: bool, dropout_p: float, out_dim: int):\n",
    "        super().__init__()\n",
    "\n",
    "        tok_embeddings = nn.Embedding(num_embeddings=vocab_size, embedding_dim=embedding_dim)\n",
    "        self.tok_embeddings = init_embedding_weights(tok_embeddings)\n",
    "        self.emb_dropout = nn.Dropout(dropout_p)\n",
    "\n",
    "        lstm = nn.LSTM(input_size=embedding_dim, hidden_size=lstm_dim, num_layers=lstm_layers, batch_first=True, bidirectional=bidirec)\n",
    "        self.lstm = init_lstm_weights(lstm)\n",
    "        pass\n",
    "\n",
    "    def forward(self, source_batch: torch.Tensor) -> torch.Tensor:\n",
    "        # embeddings\n",
    "        emb_out = self.tok_embeddings(source_batch)\n",
    "        emb_out_tanh = torch.tanh(emb_out)\n",
    "        emb_tanh_dropout = self.emb_dropout(emb_out_tanh)\n",
    "\n",
    "        # dims\n",
    "        batch_size = emb_tanh_dropout.shape[0]\n",
    "        timesteps = emb_tanh_dropout.shape[1]\n",
    "        embedding_dim = emb_tanh_dropout.shape[2]\n",
    "        \n",
    "        # forward\n",
    "        lstm_in = emb_tanh_dropout.view(batch_size, timesteps, embedding_dim)\n",
    "        lstm_out, (lstm_hidden, lstm_ctxt) = enc.lstm(lstm_in)\n",
    "        lstm_out_tanh = torch.tanh(lstm_out)\n",
    "\n",
    "        return lstm_hidden, lstm_ctxt"
   ]
  },
  {
   "cell_type": "code",
   "execution_count": 152,
   "id": "a6253fbf-aa79-499a-b0b9-69006eeb90a7",
   "metadata": {},
   "outputs": [],
   "source": [
    "# encoder configs\n",
    "enc_embedding_dim = 64\n",
    "enc_lstm_layers = 4\n",
    "enc_lstm_dim = 128\n",
    "enc_bidirec = True\n",
    "enc_dropout_p = 0.025\n",
    "enc_out_dim = 128\n",
    "\n",
    "# init encoder\n",
    "enc = Encoder(\n",
    "    len(source_vocab.get_itos()), \n",
    "    enc_embedding_dim, \n",
    "    enc_lstm_layers, \n",
    "    enc_lstm_dim, \n",
    "    enc_bidirec, \n",
    "    enc_dropout_p, \n",
    "    enc_out_dim\n",
    ")"
   ]
  },
  {
   "cell_type": "code",
   "execution_count": 82,
   "id": "ef4f9f36-bed8-4a5b-bb80-9a91e302a81f",
   "metadata": {},
   "outputs": [
    {
     "data": {
      "text/plain": [
       "(torch.Size([8, 32, 128]), torch.Size([8, 32, 128]))"
      ]
     },
     "execution_count": 82,
     "metadata": {},
     "output_type": "execute_result"
    }
   ],
   "source": [
    "with torch.no_grad():\n",
    "    # embeddings\n",
    "    enc_emb_out = enc.tok_embeddings(minibatch_source)\n",
    "    enc_emb_out_tanh = torch.tanh(enc_emb_out)\n",
    "    enc_emb_tanh_dropout = enc.emb_dropout(enc_emb_out_tanh)\n",
    "\n",
    "    # lstm inputs\n",
    "    batch_size = enc_emb_tanh_dropout.shape[0]\n",
    "    timesteps = enc_emb_tanh_dropout.shape[1]\n",
    "    enc_lstm_in = enc_emb_tanh_dropout.view(batch_size, timesteps, enc_embedding_dim)\n",
    "    \n",
    "    # lstm forward\n",
    "    enc_lstm_out, (enc_lstm_hidden, enc_lstm_ctxt) = enc.lstm(enc_lstm_in)\n",
    "    enc_lstm_ctxt_tanh = torch.tanh(enc_lstm_ctxt)\n",
    "    enc_lstm_hidden_tanh = torch.tanh(enc_lstm_hidden)\n",
    "    enc_lstm_out_tanh = torch.tanh(enc_lstm_out)\n",
    "    pass\n",
    "\n",
    "# dims\n",
    "enc_lstm_hidden.shape, enc_lstm_ctxt.shape"
   ]
  },
  {
   "cell_type": "code",
   "execution_count": 84,
   "id": "ff78c929",
   "metadata": {},
   "outputs": [
    {
     "data": {
      "image/png": "[encoded data removed]",
      "text/plain": [
       "<Figure size 600x150 with 2 Axes>"
      ]
     },
     "metadata": {},
     "output_type": "display_data"
    },
    {
     "data": {
      "image/png": "[encoded data removed]",
      "text/plain": [
       "<Figure size 600x150 with 2 Axes>"
      ]
     },
     "metadata": {},
     "output_type": "display_data"
    },
    {
     "data": {
      "image/png": "[encoded data removed]",
      "text/plain": [
       "<Figure size 600x150 with 2 Axes>"
      ]
     },
     "metadata": {},
     "output_type": "display_data"
    },
    {
     "data": {
      "image/png": "[encoded data removed]",
      "text/plain": [
       "<Figure size 600x150 with 2 Axes>"
      ]
     },
     "metadata": {},
     "output_type": "display_data"
    }
   ],
   "source": [
    "# plot\n",
    "plot_network_layer(\"enc_embeddings\", enc_emb_out, enc_emb_out_tanh, \"tanh\")\n",
    "plot_network_layer(\"enc_lstm_out\", enc_lstm_out, enc_lstm_out_tanh, \"tanh\")\n",
    "plot_network_layer(\"enc_lstm_hidden\", enc_lstm_hidden, enc_lstm_hidden_tanh, \"tanh\")\n",
    "plot_network_layer(\"enc_lstm_ctxt\", enc_lstm_ctxt, enc_lstm_ctxt_tanh, \"tanh\")"
   ]
  },
  {
   "cell_type": "code",
   "execution_count": 162,
   "id": "0ca825ed",
   "metadata": {},
   "outputs": [],
   "source": [
    "# decoder\n",
    "class Decoder(nn.Module):\n",
    "\n",
    "    def __init__(self, vocab_size: int, embedding_dim: int, lstm_layers: int, lstm_in_dim: int, lstm_hidden_dim: int):\n",
    "        super().__init__()\n",
    "    \n",
    "        # embeddings\n",
    "        tok_embeddings = nn.Embedding(num_embeddings=vocab_size, embedding_dim=embedding_dim)\n",
    "        self.tok_embeddings = init_xavier_uniform(tok_embeddings)\n",
    "\n",
    "        # lstm\n",
    "        lstm = nn.LSTM(\n",
    "            input_size=lstm_in_dim,\n",
    "            num_layers=lstm_layers,\n",
    "            hidden_size=lstm_hidden_dim,\n",
    "            batch_first=True,\n",
    "            bidirectional=False\n",
    "        )\n",
    "        self.lstm = init_lstm_weights(lstm)\n",
    "    \n",
    "        # fc\n",
    "        self.fc = nn.Linear(lstm_hidden_dim, vocab_size)\n",
    "\n",
    "        # private\n",
    "        self._lstm_in_ctxt_dim = lstm_in_dim - embedding_dim\n",
    "        pass\n",
    "    \n",
    "    @staticmethod\n",
    "    def _reshape_encoder_state(lstm_state: torch.Tensor):\n",
    "        # reshape\n",
    "        reshaped_state = lstm_state.view(\n",
    "            lstm_state.shape[0] // 2, 2, \n",
    "            lstm_state.size(1), \n",
    "            lstm_state.size(2)\n",
    "        )\n",
    "\n",
    "        reshaped_state = reshaped_state.transpose(1, 2)\n",
    "\n",
    "        # makes a copy with a memory layout of the tensor that is congruent with its shape.\n",
    "        reshaped_state = reshaped_state.contiguous()\n",
    "        \n",
    "        reshaped_state = reshaped_state.view(\n",
    "            lstm_state.size(0) // 2, \n",
    "            lstm_state.size(1), \n",
    "            lstm_state.size(2) * 2\n",
    "        )\n",
    "\n",
    "        return reshaped_state\n",
    "\n",
    "    def forward(self, minibatch_source: torch.Tensor, minibatch_target: torch.Tensor, \n",
    "                enc_lstm_hidden: torch.Tensor, enc_lstm_ctxt: torch.Tensor, bos_tok_idx: int,\n",
    "               use_teacher_forcing: bool = True):\n",
    "        # batch size\n",
    "        batch_size = enc_lstm_hidden.shape[1]\n",
    "    \n",
    "        # lstm hidden & ctxt\n",
    "        lstm_hidden = self._reshape_encoder_state(enc_lstm_hidden)\n",
    "        lstm_ctxt = self._reshape_encoder_state(enc_lstm_hidden)\n",
    "        # @verify lstm_ctxt = self._reshape_encoder_state(enc_lstm_ctxt)\n",
    "        \n",
    "        # prediction ctxt\n",
    "        enc_final_hidden_t = enc_lstm_hidden.transpose(0, 1)\n",
    "        lstm_in_ctxt = enc_final_hidden_t.reshape(\n",
    "            batch_size, 1, enc_final_hidden_t.shape[1] * enc_final_hidden_t.shape[2]\n",
    "        ).contiguous()\n",
    "\n",
    "        # start <bos>\n",
    "        token_bos = lambda: torch.empty(batch_size, 1, dtype=torch.long).fill_(bos_token_idx)\n",
    "        prev_token = token_bos()\n",
    "\n",
    "        # time steps\n",
    "        pred_steps = minibatch_target.shape[1]\n",
    "        \n",
    "        # decoder output\n",
    "        decoder_outputs = list()\n",
    "        \n",
    "        for t in range(pred_steps):\n",
    "            lstm_in = dec.tok_embeddings(prev_token) # updated\n",
    "            # lstm_in_ctxt_t = lstm_in_ctxt.broadcast_to(batch_size, tok_emb.shape[1], self._lstm_in_ctxt_dim)\n",
    "            # lstm_in = torch.cat((tok_emb, lstm_in_ctxt_t), dim=2)\n",
    "\n",
    "            # lstm\n",
    "            lstm_out, (lstm_hidden, lstm_ctxt) = self.lstm(lstm_in, (lstm_hidden, lstm_ctxt))\n",
    "            lstm_out_tanh = torch.tanh(lstm_out)\n",
    "            logits = dec.fc(lstm_out_tanh)\n",
    "            \n",
    "            # out\n",
    "            decoder_outputs.append(logits)\n",
    "\n",
    "            if use_teacher_forcing:\n",
    "                prev_token = minibatch_target[:, t].unsqueeze(1)\n",
    "            else:\n",
    "                _, prev_token = logits.topk(1)\n",
    "                prev_token = next_token.squeeze(-1).detach()\n",
    "                pass\n",
    "\n",
    "        decoder_outputs = torch.cat(decoder_outputs, dim=1)\n",
    "\n",
    "        return decoder_outputs"
   ]
  },
  {
   "cell_type": "code",
   "execution_count": 166,
   "id": "9470a957-2976-4408-91bc-4389540faa6d",
   "metadata": {},
   "outputs": [],
   "source": [
    "# tok idx\n",
    "bos_token_idx = 1\n",
    "\n",
    "# configs\n",
    "dec_embedding_dim = 128\n",
    "dec_lstm_layers = enc_lstm_layers\n",
    "dec_lstm_in_dim = dec_embedding_dim\n",
    "# @previously dec_lstm_in_dim = enc_lstm_layers * (2 if enc_bidirec else 1) * enc_lstm_dim + dec_embedding_dim\n",
    "dec_lstm_hidden_dim = 128 * (2 if enc_bidirec else 1)\n",
    "\n",
    "# decoder\n",
    "dec = Decoder(\n",
    "    vocab_size=len(target_vocab.get_itos()),\n",
    "    embedding_dim=dec_embedding_dim,\n",
    "    lstm_layers=dec_lstm_layers,\n",
    "    lstm_in_dim=dec_lstm_in_dim,\n",
    "    lstm_hidden_dim=dec_lstm_hidden_dim\n",
    ")"
   ]
  },
  {
   "cell_type": "code",
   "execution_count": 170,
   "id": "b9a84f6e-3755-4a95-95a4-1c703ff5e0b2",
   "metadata": {},
   "outputs": [],
   "source": [
    "with torch.no_grad():\n",
    "    # batch size\n",
    "    batch_size = enc_lstm_hidden.shape[1]\n",
    "    \n",
    "    # lstm hidden & ctxt\n",
    "    dec_lstm_hidden = dec._reshape_encoder_state(enc_lstm_hidden)\n",
    "    dec_lstm_ctxt = dec._reshape_encoder_state(enc_lstm_ctxt)\n",
    "    \n",
    "    # prediction ctxt\n",
    "    enc_final_hidden_t = enc_lstm_hidden.transpose(0, 1)\n",
    "    dec_lstm_in_ctxt = enc_final_hidden_t.reshape(\n",
    "        batch_size, 1, enc_final_hidden_t.shape[1] * enc_final_hidden_t.shape[2]\n",
    "    ).contiguous()\n",
    "    \n",
    "    # start <bos>\n",
    "    token_bos = lambda: torch.empty(batch_size, 1, dtype=torch.long).fill_(bos_token_idx)\n",
    "    prev_token = token_bos().detach()\n",
    "    pred_seq = token_bos().detach()\n",
    "    \n",
    "    # loss\n",
    "    loss = None\n",
    "    \n",
    "    # times\n",
    "    embedding_forward_times = list()\n",
    "    lstm_forward_times = list()\n",
    "\n",
    "    pred_steps = minibatch_target.shape[1]\n",
    "\n",
    "    for t in range(pred_steps):\n",
    "        embedding_start = time.perf_counter()\n",
    "        dec_lstm_in = dec.tok_embeddings(prev_token) # updated\n",
    "        \n",
    "        # @verify dec_lstm_in_ctxt_t = dec_lstm_in_ctxt.broadcast_to(batch_size, dec_tok_emb.shape[1], dec_lstm_in_dim - dec_embedding_dim).contiguous()\n",
    "        # @verify dec_lstm_in = torch.cat((dec_tok_emb, dec_lstm_in_ctxt_t), dim=2)\n",
    "\n",
    "        # lstm\n",
    "        lstm_start = time.perf_counter()\n",
    "        embedding_time = lstm_start - embedding_start\n",
    "        embedding_forward_times.append(embedding_time)\n",
    "    \n",
    "        dec_lstm_out, (dec_lstm_hidden, dec_lstm_ctxt) = dec.lstm(dec_lstm_in, (dec_lstm_hidden, dec_lstm_ctxt))\n",
    "        dec_lstm_out_tanh = torch.tanh(dec_lstm_out)\n",
    "        dec_logits = dec.fc(dec_lstm_out_tanh)  \n",
    "\n",
    "        lstm_time = time.perf_counter() - lstm_start\n",
    "        lstm_forward_times.append(lstm_time)\n",
    "    \n",
    "        # predict\n",
    "        _, next_token = dec_logits.topk(1)\n",
    "        next_token = next_token.squeeze(-1).detach()\n",
    "\n",
    "        # update the predicted sequence\n",
    "        pred_seq = torch.cat((pred_seq, next_token), dim=1)\n",
    "\n",
    "        # teacher forcing\n",
    "        prev_token = minibatch_target[:, t].unsqueeze(1).detach()\n",
    "        pass"
   ]
  },
  {
   "cell_type": "code",
   "execution_count": 171,
   "id": "abaf7830-6d09-475f-9871-4be3dd012399",
   "metadata": {},
   "outputs": [
    {
     "data": {
      "image/png": "[encoded data removed]",
      "text/plain": [
       "<Figure size 300x150 with 1 Axes>"
      ]
     },
     "metadata": {},
     "output_type": "display_data"
    },
    {
     "data": {
      "image/png": "[encoded data removed]",
      "text/plain": [
       "<Figure size 300x150 with 1 Axes>"
      ]
     },
     "metadata": {},
     "output_type": "display_data"
    },
    {
     "data": {
      "image/png": "[encoded data removed]",
      "text/plain": [
       "<Figure size 300x150 with 1 Axes>"
      ]
     },
     "metadata": {},
     "output_type": "display_data"
    },
    {
     "data": {
      "image/png": "[encoded data removed]",
      "text/plain": [
       "<Figure size 300x150 with 1 Axes>"
      ]
     },
     "metadata": {},
     "output_type": "display_data"
    },
    {
     "data": {
      "image/png": "[encoded data removed]",
      "text/plain": [
       "<Figure size 300x150 with 1 Axes>"
      ]
     },
     "metadata": {},
     "output_type": "display_data"
    }
   ],
   "source": [
    "plot_network_layer(\"dec_embeddings\", dec_tok_emb)\n",
    "plot_network_layer(\"dec_lstm_in\", dec_lstm_in)\n",
    "plot_network_layer(\"dec_lstm_out\", dec_lstm_out)\n",
    "plot_network_layer(\"dec_lstm_hidden\", dec_lstm_hidden)\n",
    "plot_network_layer(\"dec_lstm_ctxt\", dec_lstm_ctxt)"
   ]
  },
  {
   "cell_type": "code",
   "execution_count": 172,
   "id": "16e674f1-c33a-44cf-8189-4395c8fcf0da",
   "metadata": {},
   "outputs": [
    {
     "data": {
      "image/png": "[encoded data removed]",
      "text/plain": [
       "<Figure size 600x200 with 1 Axes>"
      ]
     },
     "metadata": {},
     "output_type": "display_data"
    }
   ],
   "source": [
    "fig, ax = plt.subplots(1, 1, figsize=(6, 2))\n",
    "sns.set_context(\"notebook\", rc={\n",
    "    \"grid.linewidth\": 0.2, \n",
    "    \"axes.titlesize\": 8,\n",
    "    \"axes.labelsize\": 8,\n",
    "    \"legend.fontsize\": 8\n",
    "})\n",
    "\n",
    "sns.lineplot(lstm_forward_times, label=\"lstm_forward\", color=\"darkblue\")\n",
    "sns.lineplot(embedding_forward_times, label=\"embedding_forward\", color=\"orange\")\n",
    "plt.tight_layout()\n",
    "plt.legend()\n",
    "plt.show()"
   ]
  },
  {
   "cell_type": "code",
   "execution_count": 173,
   "id": "0d5bdb65-2afa-4cb9-a6ef-97cc44fe97ca",
   "metadata": {},
   "outputs": [],
   "source": [
    "torch.enable_grad()\n",
    "bos_tok_idx = source_vocab[Constants.SPECIAL_TOKEN_BOS]\n",
    "train_loss_i = list()"
   ]
  },
  {
   "cell_type": "code",
   "execution_count": 174,
   "id": "fd3f8d2d",
   "metadata": {},
   "outputs": [],
   "source": [
    "train_loader, (source_vocab, target_vocab) = dataset.load(\"train\", 256, current_device)"
   ]
  },
  {
   "cell_type": "code",
   "execution_count": 285,
   "id": "08385482",
   "metadata": {},
   "outputs": [],
   "source": [
    "# opt\n",
    "enc_opt = torch.optim.AdamW(enc.parameters(), lr = 3e-4)\n",
    "dec_opt = torch.optim.AdamW(dec.parameters(), lr = 3e-4)\n",
    "loss_function = nn.NLLLoss()"
   ]
  },
  {
   "cell_type": "code",
   "execution_count": null,
   "id": "493899aa-628b-498f-9a5c-e7d0268dd3b5",
   "metadata": {},
   "outputs": [],
   "source": [
    "# train\n",
    "for e in range(100):\n",
    "    print(f\"*** epoch {e} ***\")\n",
    "    for i, batch in enumerate(train_loader):     \n",
    "        b_source, b_target = batch\n",
    "        \n",
    "        lstm_hidden, lstm_ctxt = enc(b_source)\n",
    "        decoded = dec(b_source, b_target, lstm_hidden, lstm_ctxt, bos_tok_idx)\n",
    "        softmax = F.log_softmax(decoded, dim=-1)\n",
    "\n",
    "        # zero grads\n",
    "        enc.zero_grad(set_to_none=True)\n",
    "        dec.zero_grad(set_to_none=True)\n",
    "    \n",
    "        # loss\n",
    "        loss = loss_function(\n",
    "            softmax.view(-1, softmax.size(-1)),\n",
    "            b_target.view(-1)\n",
    "        )\n",
    "\n",
    "        # backprop\n",
    "        loss.backward()\n",
    "        enc_opt.step()\n",
    "        dec_opt.step()\n",
    "\n",
    "        # track\n",
    "        train_loss_i.append(round(loss.item(), 2))\n",
    "\n",
    "        if i % 10 == 0:\n",
    "            print(np.mean(train_loss_i[-5:]))\n",
    "            pass"
   ]
  },
  {
   "cell_type": "code",
   "execution_count": null,
   "id": "28993e2f-8154-466c-ac41-0f7f75e94450",
   "metadata": {},
   "outputs": [],
   "source": [
    "# plot\n",
    "plt.plot(train_loss_i)"
   ]
  },
  {
   "cell_type": "code",
   "execution_count": 275,
   "id": "0fdde9b1-d9e4-43eb-ad3d-461a28e6b31a",
   "metadata": {},
   "outputs": [],
   "source": [
    "def run_inference(b_source_i, b_target_i):\n",
    "    # eval\n",
    "    enc.eval()\n",
    "    dec.eval()\n",
    "\n",
    "    with torch.no_grad():\n",
    "        source_words = []\n",
    "        for tok_idx in b_source[inf_idx].squeeze().tolist():\n",
    "            source_words.append(source_vocab.get_itos()[tok_idx])\n",
    "            pass\n",
    "        \n",
    "        print(\"source: \", \" \".join(source_words))\n",
    "\n",
    "        source_str = b_source_i.unsqueeze(0)\n",
    "        target_str = b_target_i.unsqueeze(0)\n",
    "\n",
    "        lstm_hidden, lstm_ctxt = enc(source_str)\n",
    "        decoded = dec(source_str, target_str, lstm_hidden, lstm_ctxt, bos_tok_idx, teacher_forcing=False)\n",
    "\n",
    "        _, pred_seq = decoded.topk(1)\n",
    "        decoded_toks = pred_seq.squeeze().tolist()\n",
    "\n",
    "        decoded_words = []\n",
    "        for tok_idx in decoded_toks:\n",
    "            decoded_words.append(target_vocab.get_itos()[tok_idx])\n",
    "            pass\n",
    "\n",
    "        print(\"target: \", \" \".join(decoded_words), \"\\n\")\n",
    "        pass\n",
    "    \n",
    "    # train\n",
    "    enc.train()\n",
    "    dec.train()\n",
    "    pass"
   ]
  },
  {
   "cell_type": "code",
   "execution_count": 292,
   "id": "a5609120",
   "metadata": {},
   "outputs": [
    {
     "name": "stdout",
     "output_type": "stream",
     "text": [
      "source:  <bos> Eine ältere Frau mit einem Taschentuch und einem Stock steht auf einer matschigen gepflasterten Straße . \n",
      " <eos> <pad> <pad> <pad> <pad> <pad> <pad> <pad> <pad> <pad> <pad> <pad>\n",
      "target:  <bos> A man man is a white is a shirt is on a street . and . \n",
      " <eos> <pad> <pad> <pad> <pad> <pad> <pad> <pad> <pad> <pad> <pad> \n",
      "\n"
     ]
    }
   ],
   "source": [
    "inf_idx = 5\n",
    "run_inference(b_source[inf_idx], b_target[inf_idx])"
   ]
  }
 ],
 "metadata": {
  "kernelspec": {
   "display_name": "torch-nlp",
   "language": "python",
   "name": "torch-nlp"
  },
  "language_info": {
   "codemirror_mode": {
    "name": "ipython",
    "version": 3
   },
   "file_extension": ".py",
   "mimetype": "text/x-python",
   "name": "python",
   "nbconvert_exporter": "python",
   "pygments_lexer": "ipython3",
   "version": "3.10.11"
  }
 },
 "nbformat": 4,
 "nbformat_minor": 5
}
