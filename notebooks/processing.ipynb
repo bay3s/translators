{
 "cells": [
  {
   "cell_type": "code",
   "execution_count": 1,
   "id": "c653b5fa-e5b3-4f00-afb8-a1c67dbedc45",
   "metadata": {},
   "outputs": [
    {
     "data": {
      "text/plain": [
       "'/usr/local/anaconda3/envs/torch-nlp/bin/python3'"
      ]
     },
     "execution_count": 1,
     "metadata": {},
     "output_type": "execute_result"
    }
   ],
   "source": [
    "import sys\n",
    "\n",
    "# make sure this points to the correct environment\n",
    "sys.executable"
   ]
  },
  {
   "cell_type": "code",
   "execution_count": 13,
   "id": "4f854f01-667c-48f3-8da0-d2fa6b0075ea",
   "metadata": {},
   "outputs": [],
   "source": [
    "import os\n",
    "\n",
    "# add module\n",
    "module_path = os.path.abspath(os.path.join('..'))\n",
    "if module_path not in sys.path:\n",
    "    sys.path.append(module_path)"
   ]
  },
  {
   "cell_type": "code",
   "execution_count": 235,
   "id": "76db3512",
   "metadata": {},
   "outputs": [],
   "source": [
    "import io\n",
    "\n",
    "from collections import Counter\n",
    "import random\n",
    "\n",
    "import torch\n",
    "import torch.nn as nn\n",
    "from torch.nn.utils.rnn import pad_sequence\n",
    "from torch.utils.data import DataLoader\n",
    "\n",
    "from torchtext.vocab import vocab\n",
    "from torchtext.utils import download_from_url, extract_archive\n",
    "from torchtext.data.utils import get_tokenizer"
   ]
  },
  {
   "cell_type": "code",
   "execution_count": 15,
   "id": "42f874c1-b210-46cd-b454-c66a5f694d78",
   "metadata": {},
   "outputs": [
    {
     "data": {
      "text/plain": [
       "('https://raw.githubusercontent.com/multi30k/dataset/master/data/task1/raw/',\n",
       " './data/',\n",
       " {'train': {'source': 'train.de', 'target': 'train.en'},\n",
       "  'val': {'source': 'val.de', 'target': 'val.en'},\n",
       "  'test': {'source': 'test_2016_flickr.de', 'target': 'test_2016_flickr.en'}})"
      ]
     },
     "execution_count": 15,
     "metadata": {},
     "output_type": "execute_result"
    }
   ],
   "source": [
    "from translators.utils.constants import Constants\n",
    "from translators.utils.path_utils import downloads_path, dataset_filepaths\n",
    "\n",
    "Constants.DATASET_BASE_URL, Constants.DATASET_DOWNLOADS_PATH, Constants.DATASET_SPLITS"
   ]
  },
  {
   "cell_type": "code",
   "execution_count": 16,
   "id": "feac93b7-700b-4450-947c-1ef62990a805",
   "metadata": {},
   "outputs": [],
   "source": [
    "# file paths\n",
    "train_filepaths = dataset_filepaths(\"train\")\n",
    "source_filepath = train_filepaths[\"source\"]\n",
    "target_filepath = train_filepaths[\"target\"]"
   ]
  },
  {
   "cell_type": "code",
   "execution_count": 17,
   "id": "725d2e1e-01b7-4e7d-82fd-6993a1a43ed4",
   "metadata": {},
   "outputs": [],
   "source": [
    "source_tokenizer = get_tokenizer(\"spacy\", language=\"de\")\n",
    "target_tokenizer = get_tokenizer(\"spacy\", language=\"en_core_web_sm\")"
   ]
  },
  {
   "cell_type": "code",
   "execution_count": 18,
   "id": "4ba7b756-9eb2-4900-b336-3c33e26fa7b6",
   "metadata": {},
   "outputs": [
    {
     "data": {
      "text/plain": [
       "functools.partial(<function _spacy_tokenize at 0x138dfc160>, spacy=<spacy.lang.de.German object at 0x110f9e8c0>)"
      ]
     },
     "execution_count": 18,
     "metadata": {},
     "output_type": "execute_result"
    }
   ],
   "source": [
    "source_tokenizer"
   ]
  },
  {
   "cell_type": "code",
   "execution_count": 19,
   "id": "6c26dc50-b241-4b9d-a236-bd4e68abf4c9",
   "metadata": {},
   "outputs": [],
   "source": [
    "def build_vocab(filepath: str, tokenizer: callable):\n",
    "    counter = Counter()\n",
    "    \n",
    "    with io.open(filepath, encoding=\"utf8\") as f:\n",
    "        for string_ in f:\n",
    "            counter.update(tokenizer(string_))\n",
    "            pass\n",
    " \n",
    "    return vocab(\n",
    "        counter, \n",
    "        specials=[\n",
    "            Constants.SPECIAL_TOKEN_UNKNOWN,\n",
    "            Constants.SPECIAL_TOKEN_PAD,\n",
    "            Constants.SPECIAL_TOKEN_BOS,\n",
    "            Constants.SPECIAL_TOKEN_EOS,\n",
    "        ]\n",
    "    )"
   ]
  },
  {
   "cell_type": "code",
   "execution_count": 20,
   "id": "ae6ec562-6de0-4a0b-b572-187e1e74f525",
   "metadata": {},
   "outputs": [],
   "source": [
    "source_vocab = build_vocab(source_filepath, source_tokenizer)\n",
    "target_vocab = build_vocab(target_filepath, target_tokenizer)"
   ]
  },
  {
   "cell_type": "code",
   "execution_count": 21,
   "id": "55fa4799-e6a3-4f66-b94c-7fbd633712dd",
   "metadata": {},
   "outputs": [
    {
     "data": {
      "text/plain": [
       "[('verschnörkelten', 19213),\n",
       " ('majestätisch', 19211),\n",
       " ('Turnanzug', 19209),\n",
       " ('einzutreten', 19208),\n",
       " ('Cardigan', 19205),\n",
       " ('Sushi-Essen', 19204),\n",
       " ('Thora', 19198),\n",
       " ('Jüdische', 19197),\n",
       " ('Schutzgeländer', 19196),\n",
       " ('aufzeichnet', 19195)]"
      ]
     },
     "execution_count": 21,
     "metadata": {},
     "output_type": "execute_result"
    }
   ],
   "source": [
    "list(source_vocab.get_stoi().items())[:10]"
   ]
  },
  {
   "cell_type": "code",
   "execution_count": 22,
   "id": "9f6cae04-c720-4357-a8a2-c841bbd7f635",
   "metadata": {},
   "outputs": [
    {
     "data": {
      "text/plain": [
       "[('majestically', 10836),\n",
       " ('Torah', 10831),\n",
       " ('coupling', 10829),\n",
       " ('joining', 10828),\n",
       " ('fitters', 10825),\n",
       " ('Rays', 10821),\n",
       " ('handwork', 10818),\n",
       " ('resembling', 10817),\n",
       " ('armbands', 10815),\n",
       " ('Similarly', 10814)]"
      ]
     },
     "execution_count": 22,
     "metadata": {},
     "output_type": "execute_result"
    }
   ],
   "source": [
    "list(target_vocab.get_stoi().items())[:10]"
   ]
  },
  {
   "cell_type": "code",
   "execution_count": 23,
   "id": "049a5ca9-7534-4021-a823-3b03e44a8d8c",
   "metadata": {},
   "outputs": [],
   "source": [
    "# build dataset\n",
    "def build_dataset(source_filepath: str, target_filepath: str) -> list:\n",
    "    # raw data\n",
    "    source_raw_iter = iter(io.open(source_filepath, encoding=\"utf8\"))\n",
    "    target_raw_iter = iter(io.open(target_filepath, encoding=\"utf8\"))\n",
    "    \n",
    "    # build dataset (input, output) pairs\n",
    "    dataset = list()\n",
    "\n",
    "    for (source_raw, target_raw) in zip(source_raw_iter, target_raw_iter):\n",
    "        source_tokenized = torch.tensor([source_vocab[token] for token in source_tokenizer(source_raw)], dtype=torch.long)\n",
    "        target_tokenized = torch.tensor([target_vocab[token] for token in target_tokenizer(target_raw)], dtype=torch.long)\n",
    "        dataset.append((source_tokenized, target_tokenized))\n",
    "        pass\n",
    "\n",
    "    return dataset"
   ]
  },
  {
   "cell_type": "code",
   "execution_count": 24,
   "id": "63e3a233-bd7c-4842-acc5-20b2212191d9",
   "metadata": {},
   "outputs": [],
   "source": [
    "train_dataset = build_dataset(source_filepath, target_filepath)"
   ]
  },
  {
   "cell_type": "code",
   "execution_count": 82,
   "id": "6906b74c-a832-4ab5-9876-b6bd6878392a",
   "metadata": {},
   "outputs": [
    {
     "data": {
      "text/plain": [
       "(tensor([ 4,  5,  6,  7,  8,  9, 10, 11, 12, 13, 14, 15, 16, 17]),\n",
       " tensor([ 4,  5,  6,  7,  8,  9, 10, 11, 12, 13, 14, 15]))"
      ]
     },
     "execution_count": 82,
     "metadata": {},
     "output_type": "execute_result"
    }
   ],
   "source": [
    "train_dataset[0]"
   ]
  },
  {
   "cell_type": "code",
   "execution_count": 124,
   "id": "5e68f9d1-1c1c-4e35-9a2d-b3c1a7f63def",
   "metadata": {},
   "outputs": [
    {
     "data": {
      "text/plain": [
       "['<unk>', '<pad>', '<bos>', '<eos>']"
      ]
     },
     "execution_count": 124,
     "metadata": {},
     "output_type": "execute_result"
    }
   ],
   "source": [
    "# padding stoi\n",
    "padding_token_id = source_vocab[Constants.SPECIAL_TOKEN_PAD]\n",
    "bos_token_id = source_vocab[Constants.SPECIAL_TOKEN_BOS]\n",
    "eos_token_id = source_vocab[Constants.SPECIAL_TOKEN_EOS]\n",
    "\n",
    "# tokenizer includes the specials first\n",
    "source_vocab.get_itos()[:4]"
   ]
  },
  {
   "cell_type": "code",
   "execution_count": 207,
   "id": "0c50b284-f403-4c6f-a434-de45461b1082",
   "metadata": {},
   "outputs": [],
   "source": [
    "def collate_minibatch(minibatch):\n",
    "    source_minibatch = list()\n",
    "    target_minibatch = list()\n",
    "    \n",
    "    for (source_item, target_item) in minibatch:\n",
    "        s = torch.cat((torch.tensor([bos_token_id]), source_item, torch.tensor([eos_token_id])))\n",
    "        source_minibatch.append(s)\n",
    "    \n",
    "        t = torch.cat((torch.tensor([bos_token_id]), target_item, torch.tensor([eos_token_id])))\n",
    "        target_minibatch.append(t)\n",
    "        pass\n",
    "\n",
    "    source_minibatch = pad_sequence(source_minibatch, padding_value=padding_token_id, batch_first=True)\n",
    "    target_minibatch = pad_sequence(target_minibatch, padding_value=padding_token_id, batch_first=True)    \n",
    "\n",
    "    return source_minibatch, target_minibatch"
   ]
  },
  {
   "cell_type": "code",
   "execution_count": 216,
   "id": "0105d3fc-b964-4ed9-983d-0d62d9bc857a",
   "metadata": {},
   "outputs": [
    {
     "data": {
      "text/plain": [
       "(torch.Size([128, 36]), torch.Size([128, 36]))"
      ]
     },
     "execution_count": 216,
     "metadata": {},
     "output_type": "execute_result"
    }
   ],
   "source": [
    "# sampled minibatch\n",
    "minibatch_size = 128\n",
    "minibatch_idx = random.sample(range(0, len(train_dataset)), 128)\n",
    "temp_minibatch = [train_dataset[idx] for idx in minibatch_idx]\n",
    "source_minibatch, target_minibatch = collate_minibatch(temp_minibatch)\n",
    "source_minibatch.shape, target_minibatch.shape"
   ]
  },
  {
   "cell_type": "code",
   "execution_count": 220,
   "id": "ebe6ed7b-15c3-4c2c-b46e-e8fb9fdebb74",
   "metadata": {},
   "outputs": [],
   "source": [
    "# train_dataset = build_dataset(source_filepath, target_filepath)\n",
    "train_loader = DataLoader(train_dataset, collate_fn=collate_minibatch, batch_size=minibatch_size, shuffle=True)"
   ]
  },
  {
   "cell_type": "code",
   "execution_count": 232,
   "id": "809709b1-0c19-4c23-992a-efc16be97097",
   "metadata": {},
   "outputs": [],
   "source": [
    "# test the loader\n",
    "for i, batch in enumerate((train_loader)):\n",
    "    source, target = batch\n",
    "    pass"
   ]
  },
  {
   "cell_type": "code",
   "execution_count": 233,
   "id": "f1db61a8-8e02-4fed-9e75-29e4bf31e745",
   "metadata": {},
   "outputs": [
    {
     "data": {
      "text/plain": [
       "(torch.Size([72, 24]), torch.Size([72, 27]))"
      ]
     },
     "execution_count": 233,
     "metadata": {},
     "output_type": "execute_result"
    }
   ],
   "source": [
    "source.shape, target.shape"
   ]
  },
  {
   "cell_type": "code",
   "execution_count": 238,
   "id": "0bd4dc30-333f-4dd9-ac8f-39f680b84f5f",
   "metadata": {},
   "outputs": [],
   "source": [
    "embedding_layer = nn.Embedding(len(source_vocab), embedding_dim=256)"
   ]
  },
  {
   "cell_type": "code",
   "execution_count": 248,
   "id": "53d7e030-f983-498f-b0b5-b9da1da1305e",
   "metadata": {},
   "outputs": [
    {
     "data": {
      "text/plain": [
       "torch.Size([19215, 256])"
      ]
     },
     "execution_count": 248,
     "metadata": {},
     "output_type": "execute_result"
    }
   ],
   "source": [
    "embedding_layer._parameters[\"weight\"].shape"
   ]
  },
  {
   "cell_type": "code",
   "execution_count": null,
   "id": "85e22bc0-90f5-4b9a-b5c8-0d00f515ca0c",
   "metadata": {},
   "outputs": [],
   "source": []
  }
 ],
 "metadata": {
  "kernelspec": {
   "display_name": "torch-nlp",
   "language": "python",
   "name": "torch-nlp"
  },
  "language_info": {
   "codemirror_mode": {
    "name": "ipython",
    "version": 3
   },
   "file_extension": ".py",
   "mimetype": "text/x-python",
   "name": "python",
   "nbconvert_exporter": "python",
   "pygments_lexer": "ipython3",
   "version": "3.10.11"
  }
 },
 "nbformat": 4,
 "nbformat_minor": 5
}
